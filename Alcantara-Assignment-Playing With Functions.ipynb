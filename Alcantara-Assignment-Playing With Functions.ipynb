{
 "cells": [
  {
   "cell_type": "markdown",
   "metadata": {},
   "source": [
    "## Playing With Functions\n",
    "\n",
    "These exercises are designed to strengthen your grasp on basic programming concepts. Read what is required of you carefully. For example, instructions to **return** values are not the same as those of **printing**.\n",
    "\n",
    "Make sure that cells are in **script mode (not interactive mode)**."
   ]
  },
  {
   "cell_type": "markdown",
   "metadata": {},
   "source": [
    "# 1\n",
    "### 1 point\n",
    "\n",
    "Write a function that takes the circumference of a circle as a parameter and **returns** the area of that circle.\n",
    "\n",
    "Note: Assume the value of pi is 3.1416"
   ]
  },
  {
   "cell_type": "code",
   "execution_count": 79,
   "metadata": {},
   "outputs": [
    {
     "name": "stdout",
     "output_type": "stream",
     "text": [
      "Value of Circumference: 10\n",
      "7.957728545963841\n"
     ]
    }
   ],
   "source": [
    "circumference=float(input(\"Value of Circumference: \"))\n",
    "\n",
    "def compute_area_from_circ(circumference):\n",
    "    pi=3.1416\n",
    "    radius = float((circumference)/(2*pi))\n",
    "    area = float((pi*(radius**2)))\n",
    "    return area \n",
    "\n",
    "print(compute_area_from_circ(circumference))"
   ]
  },
  {
   "cell_type": "markdown",
   "metadata": {},
   "source": [
    "# 2\n",
    "### 2 points\n",
    "\n",
    "Write a function that takes a 5-character string as a parameter and **returns** the string in reverse order.\n",
    "\n",
    "e.g. reverseString(\"Hello\") -> \"olleH\""
   ]
  },
  {
   "cell_type": "code",
   "execution_count": 68,
   "metadata": {},
   "outputs": [
    {
     "name": "stdout",
     "output_type": "stream",
     "text": [
      "Give a word: bye covid\n",
      "divoc eyb\n"
     ]
    }
   ],
   "source": [
    "def backwards(string):\n",
    "    string = string[::-1]\n",
    "    return string\n",
    "\n",
    "string= input(\"Give a word: \")\n",
    "print(backwards(string))"
   ]
  },
  {
   "cell_type": "markdown",
   "metadata": {},
   "source": [
    "# 3\n",
    "### 2 points\n",
    "\n",
    "Write a function that takes a positive integer as input and **returns** the sum of all positive integers smaller than and including the number itself.\n",
    "\n",
    "e.g. backAddition(5) -> 1 + 2 + 3 + 4 + 5 -> 15"
   ]
  },
  {
   "cell_type": "code",
   "execution_count": 86,
   "metadata": {},
   "outputs": [
    {
     "name": "stdout",
     "output_type": "stream",
     "text": [
      "Give an integer higher or equal to 5: 56\n",
      "1596\n"
     ]
    }
   ],
   "source": [
    "def backwardsaddition(number):\n",
    "    add = 0\n",
    "    for i in range(int(number) + 1):\n",
    "        add += i\n",
    "    return add\n",
    "\n",
    "number = input(\"Give an integer higher or equal to 5: \")\n",
    "print(backwardsaddition(number))   "
   ]
  },
  {
   "cell_type": "markdown",
   "metadata": {},
   "source": [
    "# 4\n",
    "### 5 points (all or nothing)\n",
    "\n",
    "The sum of the squares of the first ten natural numbers is,\n",
    "12 + 22 + ... + 102 = 385\n",
    "\n",
    "The square of the sum of the first ten natural numbers is,\n",
    "(1 + 2 + ... + 10)2 = 552 = 3025\n",
    "\n",
    "Hence the difference between the sum of the squares of the first ten natural numbers and the square of the sum is 3025 − 385 = 2640.\n",
    "\n",
    "Find the difference between the sum of the squares of the first one hundred natural numbers and the square of the sum.\n",
    "\n",
    "Show code that generates the answer."
   ]
  },
  {
   "cell_type": "code",
   "execution_count": 65,
   "metadata": {},
   "outputs": [
    {
     "name": "stdout",
     "output_type": "stream",
     "text": [
      "24174150\n"
     ]
    }
   ],
   "source": [
    "def sosq_sqos_difference(numbers):\n",
    "    numbers= range(1, 100)\n",
    "    sum_sq= sum(i**2 for i in numbers)\n",
    "    sq_sum= (sum(numbers))**2\n",
    "    return sq_sum-sum_sq\n",
    "    \n",
    "print(sosq_sqos_difference(100))"
   ]
  },
  {
   "cell_type": "markdown",
   "metadata": {},
   "source": [
    "# 5\n",
    "### 5 points \n",
    "\n",
    "Write a function that allows a self-service Point of Sale system to give you the exact \n",
    "change when you pay in cash.\n",
    "\n",
    "The function should accept the number of cents entered by the caller of the function. \n",
    "\n",
    "It then should **display** the denominations of the coins that should be given to the buyer. \n",
    "\n",
    "The change should use as few coins as possible. \n",
    "\n",
    "Assume that the Point of Sale system is loaded with 1 cent, 5 cents, 10 cents, 25 cents and 1 peso coins.\n",
    "\n",
    "Write main program code that accepts the number of cents manually through user input \n",
    "and calls the function written above.\n",
    "\n",
    "**Input:** The program accepts one positive integer, ***cents***, \n",
    "    corresponding to the total change to be given by the Point of Sale system.\n",
    "\n",
    "**Output:** The number of 1 peso, 25 cents, 10 cents, 5 cents and \n",
    "    1 cent coins respectively. There should be one output per line."
   ]
  },
  {
   "cell_type": "code",
   "execution_count": 88,
   "metadata": {},
   "outputs": [
    {
     "name": "stdout",
     "output_type": "stream",
     "text": [
      "Amount in cents: 673\n",
      "1-peso coins: 6\n",
      "25-cent coins: 2\n",
      "10-cent coins: 2\n",
      "5-cent coins: 0\n",
      "1-cent coins: 3\n"
     ]
    }
   ],
   "source": [
    "change= float(input(\"Amount in cents: \"))\n",
    "onepiso=0\n",
    "cent_25=0\n",
    "cent_10=0\n",
    "cent_5=0\n",
    "cent_1=0\n",
    "\n",
    "if change >= 100:\n",
    "    while change >= 100: \n",
    "        change = change-100\n",
    "        onepiso = onepiso+1\n",
    "        if change == 0:\n",
    "            break\n",
    "        elif change < 100:\n",
    "            break\n",
    "\n",
    "if change <100 and change >=25:\n",
    "    while change >=25:\n",
    "        change = change-25\n",
    "        cent_25 = cent_25+1\n",
    "        if change ==0:\n",
    "            break\n",
    "        elif change < 25:\n",
    "            break\n",
    "\n",
    "if change <25 and change >=10:\n",
    "    while change >=10:\n",
    "        change = change-10\n",
    "        cent_10 = cent_10+1\n",
    "        if change ==0:\n",
    "            break\n",
    "        elif change < 10:\n",
    "            break\n",
    "            \n",
    "if change <10 and change >=5:\n",
    "    while change >=5:\n",
    "        change = change-5\n",
    "        cent_5 = cent_5+1\n",
    "        if change ==0:\n",
    "            break\n",
    "        elif change < 5:\n",
    "            break\n",
    "            \n",
    "if change <5 and change >=1:\n",
    "    while change >=1:\n",
    "        change = change-1\n",
    "        cent_1 = cent_1+1\n",
    "        if change ==0:\n",
    "            break\n",
    "        elif change < 1:\n",
    "            break\n",
    "            \n",
    "(print(\"1-peso coins: \" + str(onepiso)))\n",
    "(print(\"25-cent coins: \" + str(cent_25)))\n",
    "(print(\"10-cent coins: \" + str(cent_10)))\n",
    "(print(\"5-cent coins: \" + str(cent_5)))\n",
    "(print(\"1-cent coins: \" + str(cent_1)))"
   ]
  },
  {
   "cell_type": "code",
   "execution_count": null,
   "metadata": {},
   "outputs": [],
   "source": []
  }
 ],
 "metadata": {
  "kernelspec": {
   "display_name": "Python 3",
   "language": "python",
   "name": "python3"
  },
  "language_info": {
   "codemirror_mode": {
    "name": "ipython",
    "version": 3
   },
   "file_extension": ".py",
   "mimetype": "text/x-python",
   "name": "python",
   "nbconvert_exporter": "python",
   "pygments_lexer": "ipython3",
   "version": "3.8.3"
  }
 },
 "nbformat": 4,
 "nbformat_minor": 4
}
