{
 "cells": [
  {
   "cell_type": "markdown",
   "metadata": {},
   "source": [
    "190151\n",
    "\n",
    "Alcantara\n",
    "\n",
    "2 - BS ITE"
   ]
  },
  {
   "cell_type": "code",
   "execution_count": 1,
   "metadata": {},
   "outputs": [
    {
     "name": "stdout",
     "output_type": "stream",
     "text": [
      "Enter the amount in US Dollars: 10\n",
      "10 US dollar(s) = 500.0 Philippine Pesos.\n"
     ]
    }
   ],
   "source": [
    "usd= input(\"Enter the amount in US Dollars: \")\n",
    "php= float(usd)*50\n",
    "print(usd, \"US dollar(s) =\", float(php), \"Philippine Pesos.\")"
   ]
  },
  {
   "cell_type": "code",
   "execution_count": 2,
   "metadata": {},
   "outputs": [
    {
     "name": "stdout",
     "output_type": "stream",
     "text": [
      "5\n",
      "4\n",
      "9\n",
      "1\n",
      "20\n",
      "1\n",
      "1\n"
     ]
    }
   ],
   "source": [
    "a=input(\"\")\n",
    "b=input(\"\")\n",
    "print(int(a)+int(b))\n",
    "print(int(a)-int(b))\n",
    "print(int(a)*int(b))\n",
    "print(int(int(a)/int(b)))\n",
    "print(int(a)%int(b))"
   ]
  },
  {
   "cell_type": "code",
   "execution_count": 10,
   "metadata": {},
   "outputs": [
    {
     "name": "stdout",
     "output_type": "stream",
     "text": [
      "Enter kg: 65\n",
      "Enter cm: 180\n",
      "BMI: 20.061728395061728\n"
     ]
    }
   ],
   "source": [
    "def compute_bmi(kg, m):\n",
    "    bmi= float(kg/m**2)\n",
    "    return bmi\n",
    "\n",
    "\n",
    "def convert_cm_to_m(cm):\n",
    "    m= float(cm)/100\n",
    "    return m\n",
    "\n",
    "\n",
    "kg= float(input(\"Enter kg: \"))\n",
    "cm= float(input(\"Enter cm: \"))\n",
    "m = convert_cm_to_m(cm)\n",
    "bmi= compute_bmi(kg,m)\n",
    "print(\"BMI:\", bmi)"
   ]
  },
  {
   "cell_type": "code",
   "execution_count": null,
   "metadata": {},
   "outputs": [],
   "source": []
  }
 ],
 "metadata": {
  "kernelspec": {
   "display_name": "Python 3",
   "language": "python",
   "name": "python3"
  },
  "language_info": {
   "codemirror_mode": {
    "name": "ipython",
    "version": 3
   },
   "file_extension": ".py",
   "mimetype": "text/x-python",
   "name": "python",
   "nbconvert_exporter": "python",
   "pygments_lexer": "ipython3",
   "version": "3.8.3"
  }
 },
 "nbformat": 4,
 "nbformat_minor": 4
}
