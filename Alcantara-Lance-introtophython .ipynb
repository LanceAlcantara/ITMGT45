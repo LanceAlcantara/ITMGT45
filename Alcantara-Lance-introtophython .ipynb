{
 "cells": [
  {
   "cell_type": "markdown",
   "metadata": {},
   "source": [
    "190151\n",
    "\n",
    "Alcantara\n",
    "\n",
    "2 - BS ITE"
   ]
  },
  {
   "cell_type": "code",
   "execution_count": 6,
   "metadata": {},
   "outputs": [],
   "source": [
    "def three_number_average(first,second,third):\n",
    "    total= float(first)+float(second)+float(third)\n",
    "    avg= float(total/3)\n",
    "    return avg"
   ]
  },
  {
   "cell_type": "code",
   "execution_count": 7,
   "metadata": {},
   "outputs": [
    {
     "name": "stdout",
     "output_type": "stream",
     "text": [
      "Enter first number: 2\n",
      "Enter second number: 3\n",
      "Enter third number: 4\n",
      "The average is 3.0\n"
     ]
    }
   ],
   "source": [
    "first= input(\"Enter first number: \")\n",
    "second= input(\"Enter second number: \")\n",
    "third= input(\"Enter third number: \")\n",
    "avg= three_number_average(first,second,third)\n",
    "print(\"The average is \", avg, sep=\"\")"
   ]
  },
  {
   "cell_type": "code",
   "execution_count": null,
   "metadata": {},
   "outputs": [],
   "source": []
  }
 ],
 "metadata": {
  "kernelspec": {
   "display_name": "Python 3",
   "language": "python",
   "name": "python3"
  },
  "language_info": {
   "codemirror_mode": {
    "name": "ipython",
    "version": 3
   },
   "file_extension": ".py",
   "mimetype": "text/x-python",
   "name": "python",
   "nbconvert_exporter": "python",
   "pygments_lexer": "ipython3",
   "version": "3.8.3"
  }
 },
 "nbformat": 4,
 "nbformat_minor": 4
}
